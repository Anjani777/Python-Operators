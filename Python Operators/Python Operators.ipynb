{
 "cells": [
  {
   "cell_type": "code",
   "execution_count": 6,
   "id": "d73f98a6-3c9f-44af-9ad4-3d2b6732b4b8",
   "metadata": {},
   "outputs": [
    {
     "name": "stdout",
     "output_type": "stream",
     "text": [
      "11\n",
      "-1\n",
      "30\n",
      "1.2\n"
     ]
    }
   ],
   "source": [
    "#Calculate the sum, difference, product, and quotient of two numbers.\n",
    "a = 5\n",
    "b = 6\n",
    "print(a+b)\n",
    "print(a-b)\n",
    "print(a*b)\n",
    "print(b/a)  "
   ]
  },
  {
   "cell_type": "code",
   "execution_count": 13,
   "id": "7c27c954-d3b2-47ac-a2dc-b9892a3cecf1",
   "metadata": {},
   "outputs": [
    {
     "name": "stdout",
     "output_type": "stream",
     "text": [
      "15\n",
      "75\n",
      "37.5\n",
      "32.5\n"
     ]
    }
   ],
   "source": [
    "#Perform various assignment operations on a variable.\n",
    "a = 5\n",
    "a += 10\n",
    "print(a)\n",
    "a *= 5\n",
    "print(a)\n",
    "a /= 2\n",
    "print(a)\n",
    "a -= 5\n",
    "print(a)"
   ]
  },
  {
   "cell_type": "code",
   "execution_count": 11,
   "id": "070d0c35-f940-49cb-9526-84be00a10675",
   "metadata": {},
   "outputs": [
    {
     "name": "stdout",
     "output_type": "stream",
     "text": [
      "True\n",
      "False\n"
     ]
    }
   ],
   "source": [
    "#Compare two numbers and print the results.\n",
    "print(2 == 2)\n",
    "print(10 < 5)"
   ]
  },
  {
   "cell_type": "code",
   "execution_count": 5,
   "id": "e02e2b63-dbac-43db-8c94-20f88fe91f65",
   "metadata": {},
   "outputs": [
    {
     "name": "stdout",
     "output_type": "stream",
     "text": [
      "True\n",
      "True\n",
      "False\n"
     ]
    }
   ],
   "source": [
    "#Check conditions using logical operators.\n",
    "print(True and True)\n",
    "print(True or False)\n",
    "print(not True)"
   ]
  },
  {
   "cell_type": "code",
   "execution_count": 16,
   "id": "3f79f363-2341-4936-9b05-9cea6bf94e1f",
   "metadata": {},
   "outputs": [
    {
     "data": {
      "text/plain": [
       "True"
      ]
     },
     "execution_count": 16,
     "metadata": {},
     "output_type": "execute_result"
    }
   ],
   "source": [
    "#Check the identity of variables.\n",
    "x = 5\n",
    "y = x\n",
    "y is x"
   ]
  },
  {
   "cell_type": "code",
   "execution_count": 17,
   "id": "b8529714-e65c-4825-ba9d-bc3594d770bb",
   "metadata": {},
   "outputs": [
    {
     "data": {
      "text/plain": [
       "True"
      ]
     },
     "execution_count": 17,
     "metadata": {},
     "output_type": "execute_result"
    }
   ],
   "source": [
    "#Check the identity of variables.\n",
    "a = \"anjani\"\n",
    "b = \"pandey\"\n",
    "a is not b"
   ]
  },
  {
   "cell_type": "code",
   "execution_count": 22,
   "id": "ff5d1ec9-b134-4aca-9a27-8d9a36259ad1",
   "metadata": {},
   "outputs": [
    {
     "name": "stdout",
     "output_type": "stream",
     "text": [
      "2\n",
      "19\n",
      "17\n",
      "144\n",
      "2\n"
     ]
    }
   ],
   "source": [
    "#Perform bitwise operations on any two integers.\n",
    "print(18 & 3)\n",
    "print(18 | 3)\n",
    "print( 18 ^ 3) #xor operator return 1 when exactly one operand is 1 \n",
    "print(18 << 3)\n",
    "print(18 >> 3)"
   ]
  },
  {
   "cell_type": "code",
   "execution_count": 24,
   "id": "bb43be92-595d-4dba-a61a-cab14b3b6234",
   "metadata": {},
   "outputs": [
    {
     "name": "stdout",
     "output_type": "stream",
     "text": [
      "-9\n"
     ]
    }
   ],
   "source": [
    "#Use bnary operators to change the sign of a number.\n",
    "num = 9\n",
    "num = -num\n",
    "print(num)\n"
   ]
  },
  {
   "cell_type": "code",
   "execution_count": 25,
   "id": "e22792fa-e9fc-4885-81f2-33ff78d5676a",
   "metadata": {},
   "outputs": [
    {
     "name": "stdout",
     "output_type": "stream",
     "text": [
      "8\n"
     ]
    }
   ],
   "source": [
    "#Use the ternary operator to assign values based on conditions.\n",
    "a = 2\n",
    "b = 8\n",
    "max_num = a if a > b else b\n",
    "print(max_num)"
   ]
  },
  {
   "cell_type": "code",
   "execution_count": null,
   "id": "174d7814-9d7f-4a1f-a6e0-7649876f8529",
   "metadata": {},
   "outputs": [],
   "source": []
  }
 ],
 "metadata": {
  "kernelspec": {
   "display_name": "Python 3 (ipykernel)",
   "language": "python",
   "name": "python3"
  },
  "language_info": {
   "codemirror_mode": {
    "name": "ipython",
    "version": 3
   },
   "file_extension": ".py",
   "mimetype": "text/x-python",
   "name": "python",
   "nbconvert_exporter": "python",
   "pygments_lexer": "ipython3",
   "version": "3.10.8"
  }
 },
 "nbformat": 4,
 "nbformat_minor": 5
}
